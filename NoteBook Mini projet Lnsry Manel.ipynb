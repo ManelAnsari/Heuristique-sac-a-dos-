{
 "cells": [
  {
   "cell_type": "markdown",
   "metadata": {},
   "source": [
    "# <center>Mini Projet Probléme sac a dos : Lansari Manel 2IDSD1</center>"
   ]
  },
  {
   "attachments": {
    "index.jpg": {
     "image/jpeg": "[encoded data removed]"
    }
   },
   "cell_type": "markdown",
   "metadata": {},
   "source": [
    "# ![index.jpg](attachment:index.jpg)"
   ]
  },
  {
   "cell_type": "code",
   "execution_count": 167,
   "metadata": {},
   "outputs": [
    {
     "name": "stdout",
     "output_type": "stream",
     "text": [
      "Requirement already satisfied: docplex in c:\\users\\pc\\anaconda3\\lib\\site-packages (2.24.232)\n",
      "Requirement already satisfied: six in c:\\users\\pc\\anaconda3\\lib\\site-packages (from docplex) (1.15.0)\n"
     ]
    }
   ],
   "source": [
    "!pip install docplex \n",
    "# docplex +> IBM Decision Optimization CP Optimizer Modeling for Python"
   ]
  },
  {
   "cell_type": "code",
   "execution_count": 168,
   "metadata": {},
   "outputs": [],
   "source": [
    "# importation des bibiliotheques \n",
    "from docplex.mp.model import Model#pour les insytuctions cplex\n",
    "import numpy as np\n",
    "import csv # biblio utilusation csv\n",
    "import time\n",
    "import random # pour algo randomisè"
   ]
  },
  {
   "cell_type": "code",
   "execution_count": 169,
   "metadata": {},
   "outputs": [
    {
     "name": "stdout",
     "output_type": "stream",
     "text": [
      "Nombre instance= 25\n",
      "Nom instance :  test100-SC(1).txt\n",
      "Nombre d'objet =  100\n",
      "volume =  {0: 85, 1: 94, 2: 26, 3: 6, 4: 48, 5: 16, 6: 21, 7: 92, 8: 22, 9: 49, 10: 95, 11: 37, 12: 43, 13: 57, 14: 45, 15: 15, 16: 55, 17: 46, 18: 52, 19: 22, 20: 9, 21: 91, 22: 1, 23: 59, 24: 22, 25: 67, 26: 94, 27: 98, 28: 38, 29: 7, 30: 74, 31: 44, 32: 15, 33: 34, 34: 82, 35: 66, 36: 67, 37: 94, 38: 84, 39: 93, 40: 99, 41: 33, 42: 33, 43: 31, 44: 82, 45: 28, 46: 72, 47: 100, 48: 74, 49: 17, 50: 38, 51: 74, 52: 56, 53: 20, 54: 45, 55: 19, 56: 95, 57: 94, 58: 29, 59: 96, 60: 99, 61: 97, 62: 77, 63: 16, 64: 97, 65: 8, 66: 19, 67: 39, 68: 42, 69: 7, 70: 7, 71: 69, 72: 22, 73: 37, 74: 70, 75: 31, 76: 98, 77: 26, 78: 100, 79: 87, 80: 45, 81: 72, 82: 67, 83: 13, 84: 72, 85: 81, 86: 95, 87: 43, 88: 13, 89: 58, 90: 48, 91: 3, 92: 87, 93: 64, 94: 23, 95: 36, 96: 29, 97: 24, 98: 74, 99: 89}\n",
      "Profit =  {0: 95, 1: 104, 2: 36, 3: 16, 4: 58, 5: 26, 6: 31, 7: 102, 8: 32, 9: 59, 10: 105, 11: 47, 12: 53, 13: 67, 14: 55, 15: 25, 16: 65, 17: 56, 18: 62, 19: 32, 20: 19, 21: 101, 22: 11, 23: 69, 24: 32, 25: 77, 26: 104, 27: 108, 28: 48, 29: 17, 30: 84, 31: 54, 32: 25, 33: 44, 34: 92, 35: 76, 36: 77, 37: 104, 38: 94, 39: 103, 40: 109, 41: 43, 42: 43, 43: 41, 44: 92, 45: 38, 46: 82, 47: 110, 48: 84, 49: 27, 50: 48, 51: 84, 52: 66, 53: 30, 54: 55, 55: 29, 56: 105, 57: 104, 58: 39, 59: 106, 60: 109, 61: 107, 62: 87, 63: 26, 64: 107, 65: 18, 66: 29, 67: 49, 68: 52, 69: 17, 70: 17, 71: 79, 72: 32, 73: 47, 74: 80, 75: 41, 76: 108, 77: 36, 78: 110, 79: 97, 80: 55, 81: 82, 82: 77, 83: 23, 84: 82, 85: 91, 86: 105, 87: 53, 88: 23, 89: 68, 90: 58, 91: 13, 92: 97, 93: 74, 94: 33, 95: 46, 96: 39, 97: 34, 98: 84, 99: 99}\n"
     ]
    }
   ],
   "source": [
    "with open(\"Résultat.csv\", \"w\") as f_write: # créer et ouvrir le fichier Resultat.csv\n",
    "    writer = csv.writer(f_write, delimiter=\";\")# spécifier le délimiteur des colonnes\n",
    "    writer.writerow( [\"instance\",\"objectif\",\"temps(s)\"] )#écrire les noms des colonnes dans Resultat.csv\n",
    "    liste=open(\"all.txt\", \"r\")# ouvrir la liste des instances\n",
    "    nb_inst = liste.readline()# lire le nombre des instances à résoudre\n",
    "    print(\"Nombre instance=\", int(nb_inst))#affichage du nombre des instances à résoudre pour vérification\n",
    "    for j in range(1): #boucle pour lire et résoudre les instances une par une\n",
    "        inst = liste.readline()#lire le nom de l'instance j à résoudre\n",
    "        #pour toutes les ligne dans all.txt, le nom de l'instance est sauvgardé dans la chaine inst suivit \n",
    "        #du caractère de fin de ligne \\n sauf pour la dernière ligne d'ou il faut enlever ce \\n\n",
    "        if j < int(nb_inst)-1: #vérifier si ce n'est pas la dernière ligne dans all.txt\n",
    "            inst=inst[:-1]#prebdre toute la chaine sauf le dernier caractère (le \\n)\n",
    "            print('Nom instance : ', inst)\n",
    "        with open(inst) as f: #ouvrir l'instance lue\n",
    "            N = int(f.readline())# lire le nombre d'objet et le sauvgarder dans la variable N\n",
    "            print(\"Nombre d'objet = \", N) # nombre objet \n",
    "            Capacite = int(f.readline())# lire la capacité du sac et la sauvgarder dans la variable capacite\n",
    "            volume= {}#déclaration d'un tableau pour les volumes des objets\n",
    "            Profit = {}#déclaration d'un tableau pour les profits des objets\n",
    "            for i in range(N):#remplir les tableau Profit et Volume\n",
    "                Profit[i], volume[i] = [int(x) for x in next(f).split()]# La méthode split() divise une chaîne en une liste\n",
    "                                                             \n",
    "        print('volume = ', volume)\n",
    "        print('Profit = ', Profit)\n",
    "        #fichier.close()\n",
    "    liste.close()# fermer le fichier liste des instances\n",
    "#results.close()"
   ]
  },
  {
   "cell_type": "code",
   "execution_count": 170,
   "metadata": {},
   "outputs": [
    {
     "name": "stdout",
     "output_type": "stream",
     "text": [
      "Nombre objet: 100\n"
     ]
    }
   ],
   "source": [
    "print('Nombre objet:',N)"
   ]
  },
  {
   "cell_type": "code",
   "execution_count": 171,
   "metadata": {},
   "outputs": [
    {
     "name": "stdout",
     "output_type": "stream",
     "text": [
      "Nombre Profit elements: 100\n"
     ]
    }
   ],
   "source": [
    "print('Nombre Profit elements:',len(Profit))"
   ]
  },
  {
   "cell_type": "code",
   "execution_count": 172,
   "metadata": {},
   "outputs": [
    {
     "name": "stdout",
     "output_type": "stream",
     "text": [
      "Nombre volume elements: 100\n"
     ]
    }
   ],
   "source": [
    "print('Nombre volume elements:',len(volume))"
   ]
  },
  {
   "cell_type": "code",
   "execution_count": 173,
   "metadata": {},
   "outputs": [
    {
     "name": "stdout",
     "output_type": "stream",
     "text": [
      "la capacitè: 101\n"
     ]
    }
   ],
   "source": [
    "print('la capacitè:',Capacite)"
   ]
  },
  {
   "cell_type": "code",
   "execution_count": 174,
   "metadata": {},
   "outputs": [
    {
     "name": "stdout",
     "output_type": "stream",
     "text": [
      "la liste de profit: [(0, 95), (1, 104), (2, 36), (3, 16), (4, 58), (5, 26), (6, 31), (7, 102), (8, 32), (9, 59), (10, 105), (11, 47), (12, 53), (13, 67), (14, 55), (15, 25), (16, 65), (17, 56), (18, 62), (19, 32), (20, 19), (21, 101), (22, 11), (23, 69), (24, 32), (25, 77), (26, 104), (27, 108), (28, 48), (29, 17), (30, 84), (31, 54), (32, 25), (33, 44), (34, 92), (35, 76), (36, 77), (37, 104), (38, 94), (39, 103), (40, 109), (41, 43), (42, 43), (43, 41), (44, 92), (45, 38), (46, 82), (47, 110), (48, 84), (49, 27), (50, 48), (51, 84), (52, 66), (53, 30), (54, 55), (55, 29), (56, 105), (57, 104), (58, 39), (59, 106), (60, 109), (61, 107), (62, 87), (63, 26), (64, 107), (65, 18), (66, 29), (67, 49), (68, 52), (69, 17), (70, 17), (71, 79), (72, 32), (73, 47), (74, 80), (75, 41), (76, 108), (77, 36), (78, 110), (79, 97), (80, 55), (81, 82), (82, 77), (83, 23), (84, 82), (85, 91), (86, 105), (87, 53), (88, 23), (89, 68), (90, 58), (91, 13), (92, 97), (93, 74), (94, 33), (95, 46), (96, 39), (97, 34), (98, 84), (99, 99)]\n"
     ]
    }
   ],
   "source": [
    "listProfit=list(Profit.items())\n",
    "print('la liste de profit:',listProfit)"
   ]
  },
  {
   "cell_type": "code",
   "execution_count": 212,
   "metadata": {},
   "outputs": [
    {
     "name": "stdout",
     "output_type": "stream",
     "text": [
      "la liste de volume: [(0, 85), (1, 94), (2, 26), (3, 6), (4, 48), (5, 16), (6, 21), (7, 92), (8, 22), (9, 49), (10, 95), (11, 37), (12, 43), (13, 57), (14, 45), (15, 15), (16, 55), (17, 46), (18, 52), (19, 22), (20, 9), (21, 91), (22, 1), (23, 59), (24, 22), (25, 67), (26, 94), (27, 98), (28, 38), (29, 7), (30, 74), (31, 44), (32, 15), (33, 34), (34, 82), (35, 66), (36, 67), (37, 94), (38, 84), (39, 93), (40, 99), (41, 33), (42, 33), (43, 31), (44, 82), (45, 28), (46, 72), (47, 100), (48, 74), (49, 17), (50, 38), (51, 74), (52, 56), (53, 20), (54, 45), (55, 19), (56, 95), (57, 94), (58, 29), (59, 96), (60, 99), (61, 97), (62, 77), (63, 16), (64, 97), (65, 8), (66, 19), (67, 39), (68, 42), (69, 7), (70, 7), (71, 69), (72, 22), (73, 37), (74, 70), (75, 31), (76, 98), (77, 26), (78, 100), (79, 87), (80, 45), (81, 72), (82, 67), (83, 13), (84, 72), (85, 81), (86, 95), (87, 43), (88, 13), (89, 58), (90, 48), (91, 3), (92, 87), (93, 64), (94, 23), (95, 36), (96, 29), (97, 24), (98, 74), (99, 89)]\n"
     ]
    }
   ],
   "source": [
    "listVolume=list(volume.items())\n",
    "print('la liste de volume:',listVolume)"
   ]
  },
  {
   "cell_type": "markdown",
   "metadata": {},
   "source": [
    "## Heureustique constructive : Algorithme Glouton"
   ]
  },
  {
   "cell_type": "markdown",
   "metadata": {},
   "source": [
    "* L'heuristique constructive (aussi appelée méthode gloutonne) qui génère des combinaisons de façon incrémentale par un processus stochastique"
   ]
  },
  {
   "cell_type": "code",
   "execution_count": 134,
   "metadata": {},
   "outputs": [],
   "source": [
    "def heurs_constructive(Capacite,Profit_elements,Volume_elements):\n",
    "    elements_trie=sorted(Profit_elements, key=lambda x: x[1])\n",
    "    elements_dans_SAC=[] # les elements dans le sac\n",
    "    poids_total=0 # poid total\n",
    "    while(elements_trie): \n",
    "        element=elements_trie.pop() #  supprimer\n",
    "        j=Profit_elements.index(element)\n",
    "        if(Volume_elements[j][1]+poids_total<=Capacite):# si il rest encore capacite dans le sac\n",
    "            elements_dans_SAC.append(element) # append ajouter element a la fin\n",
    "            poids_total+=Volume_elements[j][1]\n",
    "    return sum([j[1] for j in elements_dans_SAC]), elements_dans_SAC"
   ]
  },
  {
   "cell_type": "code",
   "execution_count": 135,
   "metadata": {},
   "outputs": [
    {
     "name": "stdout",
     "output_type": "stream",
     "text": [
      "Voila le temps d'exécution de l'heurestique constructive : 0.0ms\n"
     ]
    }
   ],
   "source": [
    "commence=time.time() # timer commence\n",
    "heurs_constructive(Capacite,listProfit,listVolume) # appel fonction\n",
    "fin=time.time()\n",
    "elape_constructive=fin-commence \n",
    "print(f'Voila le temps d\\'exécution de l\\'heurestique constructive : {elape_constructive:.15}ms')"
   ]
  },
  {
   "cell_type": "markdown",
   "metadata": {},
   "source": [
    "###### Génération de la solution initiale"
   ]
  },
  {
   "cell_type": "code",
   "execution_count": 220,
   "metadata": {},
   "outputs": [],
   "source": [
    "sol0 = [0] * N # N= nombre d'objet\n",
    "m=[]\n",
    "solution=heurs_constructive(Capacite,listProfit,listVolume)[1]\n",
    "for j in solution :\n",
    "    m.append(j[0])\n",
    "for j in range(N):\n",
    "    if j in m :\n",
    "        sol0[j]=1"
   ]
  },
  {
   "cell_type": "code",
   "execution_count": 284,
   "metadata": {},
   "outputs": [
    {
     "data": {
      "text/plain": [
       "{22, 78}"
      ]
     },
     "execution_count": 284,
     "metadata": {},
     "output_type": "execute_result"
    }
   ],
   "source": [
    "op_const=set(m)\n",
    "op_const"
   ]
  },
  {
   "cell_type": "markdown",
   "metadata": {},
   "source": [
    "* #### Fonction vérif la capacité des solutions"
   ]
  },
  {
   "cell_type": "code",
   "execution_count": 148,
   "metadata": {},
   "outputs": [],
   "source": [
    "def verif(sol):\n",
    "    cap=0\n",
    "    for i in range(0,len(sol)):\n",
    "        if sol[i]==1 :\n",
    "            cap+=volume[i]\n",
    "    if cap>Capacite :\n",
    "        return False\n",
    "    return True"
   ]
  },
  {
   "cell_type": "markdown",
   "metadata": {},
   "source": [
    "* ####  Fonction génére les voisins d'une solution"
   ]
  },
  {
   "cell_type": "code",
   "execution_count": 151,
   "metadata": {},
   "outputs": [],
   "source": [
    "def genere(solvoisine):\n",
    "    m=[] # List\n",
    "    longueur=len(solvoisine) # longeur sol voisine\n",
    "    for i in range(longueur-1) :\n",
    "        sol1=solvoisine.copy()\n",
    "        sol1[i],sol1[i+1]=sol1[i+1],sol1[i]\n",
    "        if verif(sol1) :# appel fonction verid la capacitè des solutions\n",
    "            m.append(sol1) # ajouter \n",
    "    return(m)"
   ]
  },
  {
   "cell_type": "markdown",
   "metadata": {},
   "source": [
    " * #### Fonction Profit d'une solution"
   ]
  },
  {
   "cell_type": "code",
   "execution_count": 175,
   "metadata": {},
   "outputs": [],
   "source": [
    "def fonction_Profit(sol):\n",
    "    c=0\n",
    "    for i in range(0,len(sol)):\n",
    "        if sol[i]==1 :\n",
    "            c+=Profit[i]\n",
    "    return(c)"
   ]
  },
  {
   "cell_type": "markdown",
   "metadata": {},
   "source": [
    "##   Algorithme Constructive : Solution Randomisés"
   ]
  },
  {
   "cell_type": "code",
   "execution_count": 235,
   "metadata": {},
   "outputs": [],
   "source": [
    "def Heur_const_Random(Capacite,Profit_elements,Volume_elements):\n",
    "    elements_dans_SAC=[]\n",
    "    Profit=Profit_elements.copy()\n",
    "    Volume=Volume_elements.copy()\n",
    "    poids_total=0\n",
    "    while(Profit):\n",
    "        randomIndex = random.randint(0,len(Profit)-1) # geneere random\n",
    "        element=Profit[randomIndex]\n",
    "        if(Volume[randomIndex][1]+poids_total<=Capacite):# condition cap\n",
    "            elements_dans_SAC.append(element)# ajoute a ala fin\n",
    "            poids_total+=Volume[i][1]\n",
    "            Profit.remove(element)\n",
    "        else:\n",
    "            break\n",
    "    return sum([i[1] for i in elements_dans_SAC]), elements_dans_SAC"
   ]
  },
  {
   "cell_type": "code",
   "execution_count": 236,
   "metadata": {},
   "outputs": [
    {
     "name": "stdout",
     "output_type": "stream",
     "text": [
      "Voila le temps d'exécution de l'Heurestique Constructive Randomisée : 0.0ms\n"
     ]
    }
   ],
   "source": [
    "deb=time.time()\n",
    "Heur_const_Random(Capacite,listProfit,listVolume)\n",
    "fin=time.time()\n",
    "elap_random=fin-deb\n",
    "print(f'Voila le temps d\\'exécution de l\\'Heurestique Constructive Randomisée : {elap_random:.15}ms')"
   ]
  },
  {
   "cell_type": "code",
   "execution_count": 237,
   "metadata": {},
   "outputs": [
    {
     "data": {
      "text/plain": [
       "121"
      ]
     },
     "execution_count": 237,
     "metadata": {},
     "output_type": "execute_result"
    }
   ],
   "source": [
    "fonction_Profit(sol0)"
   ]
  },
  {
   "cell_type": "markdown",
   "metadata": {},
   "source": [
    "## Algorithme Descente Rapide"
   ]
  },
  {
   "cell_type": "markdown",
   "metadata": {},
   "source": [
    "* La Descente de Gradient est un algorithme d'optimisation qui permet de trouver le minimum de n'importe quelle fonction convexe en convergeant progressivement vers celui-ci"
   ]
  },
  {
   "cell_type": "code",
   "execution_count": null,
   "metadata": {},
   "outputs": [],
   "source": [
    "def Descente_Rapide(solvoisine) : \n",
    "    sol=solvoisine.copy()\n",
    "    amelioration=True\n",
    "    while amelioration :\n",
    "        amelioration=False\n",
    "        fmax=0\n",
    "        for j in genere(sol):\n",
    "            if fonction_Profit(j)>fmax:\n",
    "                solmax=j\n",
    "                fmax=fonction_Profit(j)\n",
    "        if(fmax>fonction_Profit(sol)):\n",
    "            sol=solmax\n",
    "            amelioration=True\n",
    "    return sol"
   ]
  },
  {
   "cell_type": "code",
   "execution_count": null,
   "metadata": {},
   "outputs": [],
   "source": [
    "op_descente=set()\n",
    "Pro=0 #Compteur pour l'insertion \n",
    "commence=time.time()\n",
    "Descente_Rapide(sol0) # appel au descent\n",
    "fin=time.time() \n",
    "elape_descente=fin-commence # Temp execution\n",
    "print(f'Temps d\\'exécution de la descente rapide: {elape_descente:.15}ms')\n",
    "for j in range(len(Descente_Rapide(sol0))):\n",
    "    if Descente_Rapide(sol0)[j]==1 :\n",
    "        print(\"Loadig res...\",j)\n",
    "for j in range(len(Descente_Rapide(sol0))):\n",
    "    if Descente_Rapide(sol0)[j]==1 :\n",
    "        op_descente.add(j)\n",
    "        Pro+=Profit[j]\n",
    "print(\"La solution optimale est \",op_descente,\" son profit est \",Pro)"
   ]
  },
  {
   "cell_type": "markdown",
   "metadata": {},
   "source": [
    "## Algorithme GRASP"
   ]
  },
  {
   "cell_type": "markdown",
   "metadata": {},
   "source": [
    "* Greedy randomized adaptive search procedure \n",
    "* GRASP est un algorithme d’optimisation visant à résoudre des problèmes d’optimisation difficile pour lesquels on ne connaît pas de méthode classique plus efficace"
   ]
  },
  {
   "cell_type": "code",
   "execution_count": 270,
   "metadata": {},
   "outputs": [
    {
     "name": "stdout",
     "output_type": "stream",
     "text": [
      "Temps d'exécution de la méthode GRASP: 0.1939518452ms\n",
      "Fonction profit :  114\n",
      "Verif la capacitè :  True\n",
      "Capacitè: 101\n"
     ]
    }
   ],
   "source": [
    "def Algo_GRASP(Capacite,Profit_elements,Volume_elements) :\n",
    "    sol1=[0]*N # N +> Nombre des objets\n",
    "    for i in range(N) :\n",
    "        sol=Heur_const_Random(Capacite,Profit_elements.copy(),Volume_elements.copy())[1]\n",
    "        sol2= [0] * N\n",
    "        liste=[] # la liste de elements\n",
    "        for i in sol :\n",
    "            liste.append(i[0]) # ajout\n",
    "        for i in range(N):\n",
    "            if i in liste :# test\n",
    "                sol2[i]=1\n",
    "        sol3=Descente_Rapide(sol2)#appel descent rapide\n",
    "        if fonction_Profit(sol3)>fonction_Profit(sol1) and verif(sol3) :\n",
    "            sol1=sol3\n",
    "    return(sol1)\n",
    "deb=time.time()\n",
    "sol=Algo_GRASP(Capacite,listProfit,listVolume)\n",
    "fin=time.time()\n",
    "elap_GRASP=fin-deb\n",
    "print(f'Temps d\\'exécution de la méthode GRASP: {elap_GRASP:.10}ms')\n",
    "print('Fonction profit : ',fonction_Profit(Algo_GRASP(Capacite,listProfit,listVolume)))\n",
    "print('Verif la capacitè : ',verif(Algo_GRASP(Capacite,listProfit,listVolume)))#\n",
    "print(\"Capacitè:\",Capacite)"
   ]
  },
  {
   "cell_type": "code",
   "execution_count": 271,
   "metadata": {
    "scrolled": true
   },
   "outputs": [
    {
     "name": "stdout",
     "output_type": "stream",
     "text": [
      "La solution optimale par la méthode GRASP est  {26, 70}  son profit est  121\n"
     ]
    },
    {
     "data": {
      "text/plain": [
       "{26, 70}"
      ]
     },
     "execution_count": 271,
     "metadata": {},
     "output_type": "execute_result"
    }
   ],
   "source": [
    "op_GRASP=set()\n",
    "pro=0 \n",
    "for i in range(len(sol)):\n",
    "    if sol[i]==1 :\n",
    "        op_GRASP.add(i)\n",
    "        pro+=Profit[i]\n",
    "print(\"La solution optimale par la méthode GRASP est \",op_GRASP,\" son profit est \",pro)\n",
    "op_GRASP"
   ]
  },
  {
   "cell_type": "markdown",
   "metadata": {},
   "source": [
    "## Methode Recherche Tabou"
   ]
  },
  {
   "cell_type": "markdown",
   "metadata": {},
   "source": [
    "* L'idée de la recherche tabou consiste, à partir d'une position donnée, à en explorer le voisinage et à choisir la position dans ce voisinage qui minimise la fonction objectif. "
   ]
  },
  {
   "cell_type": "code",
   "execution_count": 272,
   "metadata": {},
   "outputs": [],
   "source": [
    "def methode_Tabou(sol0):\n",
    "    count=0 #Compteur pour l'insertion dans la liste\n",
    "    sol=sol0.copy() # solution initiale\n",
    "    tabo=[] #liste tabou\n",
    "    n=100 #nombre d'itérations\n",
    "    sol_etoile=sol.copy() #Meilleure solution\n",
    "    profit0 =fonction_Profit(sol0) # calculer le profit du solution0\n",
    "    for i in range (n): #critère d'arrêt 100 itérations\n",
    "        for j in genere(sol): #parcourir les voisins de la solution initiale\n",
    "            if( (j not in tabo)): #Ne pas parcourir les solutions de la liste tabou\n",
    "                \n",
    "                if(fonction_Profit(j)>profit0): #Si le profit est maximal , modification de s_etoile et du profil\n",
    "                    sol_etoile=j\n",
    "                    profit0=f(j)\n",
    "                    count=count+1\n",
    "                tabo.insert(count % 10, j) #Ajout de chaque solution visitée dans la liste tabou de taille 10\n",
    "            \n",
    "    return sol_etoile # on retourne solution meilleur"
   ]
  },
  {
   "cell_type": "code",
   "execution_count": 282,
   "metadata": {},
   "outputs": [
    {
     "name": "stdout",
     "output_type": "stream",
     "text": [
      "La solution optimale par la méthode tabou est  {78, 22}  son profit est  121\n"
     ]
    }
   ],
   "source": [
    "op_tabou=set()\n",
    "pro=0\n",
    "for i in range(len(methode_Tabou(sol0))):\n",
    "    if methode_Tabou(sol0)[i]==1 :\n",
    "        op_tabou.add(i)# ajouter au optimal\n",
    "        pro+=Profit[i]\n",
    "print(\"La solution optimale par la méthode tabou est \",op_tabou,\" son profit est \",pro)"
   ]
  },
  {
   "cell_type": "code",
   "execution_count": 283,
   "metadata": {},
   "outputs": [
    {
     "name": "stdout",
     "output_type": "stream",
     "text": [
      "Temps d'exécution de la méthode Tabou : 0.07004737854ms\n"
     ]
    }
   ],
   "source": [
    "deb=time.time()\n",
    "methode_Tabou(sol0)\n",
    "fin=time.time()\n",
    "elap_Tabou=fin-deb\n",
    "print(f'Temps d\\'exécution de la méthode Tabou : {elap_Tabou:.10}ms')"
   ]
  },
  {
   "cell_type": "markdown",
   "metadata": {},
   "source": [
    "## Enregister Résultats en CSV "
   ]
  },
  {
   "cell_type": "code",
   "execution_count": 288,
   "metadata": {},
   "outputs": [],
   "source": [
    "nom = ['Méthode', 'Temps d\\'exécution','Solution'] ## noms de champs\n",
    "    # lignes de données du fichier csv\n",
    "lignes = [ ['Algorithme Glouton',elape_constructive ,op_const], \n",
    "         ['Descente Rapide', elape_descente,op_descente], \n",
    "         ['Méthode Constructive randon',elap_random],\n",
    "         ['Méthode GRASP',elap_GRASP,op_GRASP], \n",
    "         ['Méthode Tabou',elap_Tabou]] \n",
    "    \n",
    "nom_fichier = \"Résultats_2idsd1_gp1_manel.csv\"## nom du fichier csv\n",
    "with open(nom_fichier, 'w') as csvfile: ## écriture dans un fichier csv\n",
    "    csvwriter = csv.writer(csvfile) # création d'un objet csv writer \n",
    "    csvwriter.writerow(nom) ## écrire les champs \n",
    "    csvwriter.writerows(lignes)## écrire les lignes de données"
   ]
  },
  {
   "attachments": {
    "manel.png": {
     "image/png": "[encoded data removed]"
    }
   },
   "cell_type": "markdown",
   "metadata": {},
   "source": [
    "![manel.png](attachment:manel.png)"
   ]
  },
  {
   "cell_type": "code",
   "execution_count": null,
   "metadata": {},
   "outputs": [],
   "source": []
  }
 ],
 "metadata": {
  "kernelspec": {
   "display_name": "Python 3",
   "language": "python",
   "name": "python3"
  },
  "language_info": {
   "codemirror_mode": {
    "name": "ipython",
    "version": 3
   },
   "file_extension": ".py",
   "mimetype": "text/x-python",
   "name": "python",
   "nbconvert_exporter": "python",
   "pygments_lexer": "ipython3",
   "version": "3.8.8"
  }
 },
 "nbformat": 4,
 "nbformat_minor": 4
}
